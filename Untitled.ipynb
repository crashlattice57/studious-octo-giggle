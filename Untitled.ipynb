{
 "cells": [
  {
   "cell_type": "code",
   "execution_count": 5,
   "id": "12a78f55",
   "metadata": {},
   "outputs": [],
   "source": [
    "from data_cleaning import clean_data\n",
    "import pandas as pd\n",
    "import numpy as np"
   ]
  },
  {
   "cell_type": "code",
   "execution_count": 3,
   "id": "47450351",
   "metadata": {},
   "outputs": [],
   "source": [
    "df = clean_data()"
   ]
  },
  {
   "cell_type": "code",
   "execution_count": 4,
   "id": "a671e867",
   "metadata": {},
   "outputs": [
    {
     "data": {
      "text/html": [
       "<div>\n",
       "<style scoped>\n",
       "    .dataframe tbody tr th:only-of-type {\n",
       "        vertical-align: middle;\n",
       "    }\n",
       "\n",
       "    .dataframe tbody tr th {\n",
       "        vertical-align: top;\n",
       "    }\n",
       "\n",
       "    .dataframe thead th {\n",
       "        text-align: right;\n",
       "    }\n",
       "</style>\n",
       "<table border=\"1\" class=\"dataframe\">\n",
       "  <thead>\n",
       "    <tr style=\"text-align: right;\">\n",
       "      <th></th>\n",
       "      <th>Title</th>\n",
       "      <th>Date</th>\n",
       "      <th>Affiliations</th>\n",
       "      <th>Description</th>\n",
       "      <th>Response</th>\n",
       "      <th>Victims</th>\n",
       "      <th>Sponsor</th>\n",
       "      <th>Type</th>\n",
       "      <th>Category</th>\n",
       "      <th>Month</th>\n",
       "      <th>Day</th>\n",
       "      <th>Year</th>\n",
       "      <th>Sources</th>\n",
       "    </tr>\n",
       "  </thead>\n",
       "  <tbody>\n",
       "    <tr>\n",
       "      <th>0</th>\n",
       "      <td>dissidents and opposition political candidates...</td>\n",
       "      <td>2022-01-20</td>\n",
       "      <td>Ghana's government</td>\n",
       "      <td>The Israeli spyware firm NSO Group sold Pegasu...</td>\n",
       "      <td>Denial</td>\n",
       "      <td>Political dissidents and opposition leaders in...</td>\n",
       "      <td>Ghana</td>\n",
       "      <td>Espionage</td>\n",
       "      <td>Civil society</td>\n",
       "      <td>1</td>\n",
       "      <td>20</td>\n",
       "      <td>2022</td>\n",
       "      <td>https://www.haaretz.com/israel-news/tech-news/...</td>\n",
       "    </tr>\n",
       "    <tr>\n",
       "      <th>1</th>\n",
       "      <td>Ukrainian state entities</td>\n",
       "      <td>2022-03-07</td>\n",
       "      <td>UNC1151</td>\n",
       "      <td>The Belarusian threat actor UNC1151 targeted m...</td>\n",
       "      <td>nan</td>\n",
       "      <td>Ukrainian state entities</td>\n",
       "      <td>Belarus</td>\n",
       "      <td>Espionage</td>\n",
       "      <td>Government</td>\n",
       "      <td>3</td>\n",
       "      <td>7</td>\n",
       "      <td>2022</td>\n",
       "      <td>https://cert.gov.ua/article/37626</td>\n",
       "    </tr>\n",
       "    <tr>\n",
       "      <th>2</th>\n",
       "      <td>Russian and Belarusian websites</td>\n",
       "      <td>2022-05-04</td>\n",
       "      <td>Ukrainian IT Army</td>\n",
       "      <td>Ukraine?? IT Army compromised Docker Engine ho...</td>\n",
       "      <td>nan</td>\n",
       "      <td>Russian and Belarusian websites were targeted,...</td>\n",
       "      <td>Ukraine</td>\n",
       "      <td>Denial of service</td>\n",
       "      <td>Government</td>\n",
       "      <td>5</td>\n",
       "      <td>4</td>\n",
       "      <td>2022</td>\n",
       "      <td>https://www.crowdstrike.com/blog/compromised-d...</td>\n",
       "    </tr>\n",
       "    <tr>\n",
       "      <th>3</th>\n",
       "      <td>Russian and Belarusian websites</td>\n",
       "      <td>2022-05-04</td>\n",
       "      <td>Ukrainian IT Army</td>\n",
       "      <td>Ukraine?? IT Army compromised Docker Engine ho...</td>\n",
       "      <td>nan</td>\n",
       "      <td>Russian and Belarusian websites were targeted,...</td>\n",
       "      <td>Ukraine</td>\n",
       "      <td>Denial of service</td>\n",
       "      <td>Private sector</td>\n",
       "      <td>5</td>\n",
       "      <td>4</td>\n",
       "      <td>2022</td>\n",
       "      <td>https://www.crowdstrike.com/blog/compromised-d...</td>\n",
       "    </tr>\n",
       "    <tr>\n",
       "      <th>4</th>\n",
       "      <td>Russian and Belarusian websites</td>\n",
       "      <td>2022-05-04</td>\n",
       "      <td>Ukrainian IT Army</td>\n",
       "      <td>Ukraine?? IT Army compromised Docker Engine ho...</td>\n",
       "      <td>nan</td>\n",
       "      <td>Russian and Belarusian websites were targeted,...</td>\n",
       "      <td>Ukraine</td>\n",
       "      <td>Denial of service</td>\n",
       "      <td>Civil society</td>\n",
       "      <td>5</td>\n",
       "      <td>4</td>\n",
       "      <td>2022</td>\n",
       "      <td>https://www.crowdstrike.com/blog/compromised-d...</td>\n",
       "    </tr>\n",
       "  </tbody>\n",
       "</table>\n",
       "</div>"
      ],
      "text/plain": [
       "                                               Title  ...                                            Sources\n",
       "0  dissidents and opposition political candidates...  ...  https://www.haaretz.com/israel-news/tech-news/...\n",
       "1                           Ukrainian state entities  ...                  https://cert.gov.ua/article/37626\n",
       "2                    Russian and Belarusian websites  ...  https://www.crowdstrike.com/blog/compromised-d...\n",
       "3                    Russian and Belarusian websites  ...  https://www.crowdstrike.com/blog/compromised-d...\n",
       "4                    Russian and Belarusian websites  ...  https://www.crowdstrike.com/blog/compromised-d...\n",
       "\n",
       "[5 rows x 13 columns]"
      ]
     },
     "execution_count": 4,
     "metadata": {},
     "output_type": "execute_result"
    }
   ],
   "source": [
    "df.head()"
   ]
  },
  {
   "cell_type": "code",
   "execution_count": 37,
   "id": "20c2d175",
   "metadata": {},
   "outputs": [
    {
     "data": {
      "text/plain": [
       "Year\n",
       "2005      1\n",
       "2006      3\n",
       "2007     10\n",
       "2008      7\n",
       "2009      4\n",
       "2010      9\n",
       "2011     15\n",
       "2012     12\n",
       "2013     18\n",
       "2014     32\n",
       "2015     34\n",
       "2016     33\n",
       "2017     46\n",
       "2018     80\n",
       "2019     74\n",
       "2020    120\n",
       "2021    106\n",
       "2022    146\n",
       "Name: Title, dtype: int64"
      ]
     },
     "execution_count": 37,
     "metadata": {},
     "output_type": "execute_result"
    }
   ],
   "source": [
    "#groupby function to create graph by year\n",
    "\n",
    "df.groupby(by=[\"Year\"])[\"Title\"].nunique()"
   ]
  },
  {
   "cell_type": "code",
   "execution_count": 38,
   "id": "b93ccb73",
   "metadata": {},
   "outputs": [
    {
     "data": {
      "text/plain": [
       "Category\n",
       "Civil society                                                                                                                                                                                                                 40\n",
       "Espionage                                                                                                                                                                                                                      1\n",
       "Government                                                                                                                                                                                                                    25\n",
       "Military                                                                                                                                                                                                                      16\n",
       "Private sector                                                                                                                                                                                                                23\n",
       "https://media.defense.gov/2021/Jul/01/2002753896/-1/-1/1/CSA_GRU_GLOBAL_BRUTE_FORCE_CAMPAIGN_UOO158036-21.PDF                                                                                                                  1\n",
       "https://thehackernews.com/2022/02/new-caprarat-android-malw                                                                                                                                                                    1\n",
       "https://www.bbc.com/news/world-europe-54518106                                                                                                                                                                                 1\n",
       "https://www.cyberscoop.com/poland-cyberattack-russia-us-military/                                                                                                                                                              1\n",
       "https://www.reuters.com/article/us-ukraine-cyber/ukraine-accuses-russian-hackers-of-new-cyber-attack-idUSKBN2B81D8?utm_campaign=wp_the_cybersecurity_202&utm_medium=email&utm_source=newsletter&wpisrc=nl_cybersecurity202     1\n",
       "nan                                                                                                                                                                                                                            9\n",
       "Name: Sponsor, dtype: int64"
      ]
     },
     "execution_count": 38,
     "metadata": {},
     "output_type": "execute_result"
    }
   ],
   "source": [
    "df.groupby(by=[\"Category\"])[\"Sponsor\"].nunique()"
   ]
  },
  {
   "cell_type": "code",
   "execution_count": null,
   "id": "05af54d3",
   "metadata": {},
   "outputs": [],
   "source": []
  }
 ],
 "metadata": {
  "kernelspec": {
   "display_name": "Python 3 (ipykernel)",
   "language": "python",
   "name": "python3"
  },
  "language_info": {
   "codemirror_mode": {
    "name": "ipython",
    "version": 3
   },
   "file_extension": ".py",
   "mimetype": "text/x-python",
   "name": "python",
   "nbconvert_exporter": "python",
   "pygments_lexer": "ipython3",
   "version": "3.9.13"
  }
 },
 "nbformat": 4,
 "nbformat_minor": 5
}
